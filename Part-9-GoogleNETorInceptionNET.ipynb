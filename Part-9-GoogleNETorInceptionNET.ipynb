{
  "nbformat": 4,
  "nbformat_minor": 0,
  "metadata": {
    "colab": {
      "name": "Part-9-GoogleNETorInceptionNET.ipynb",
      "provenance": [],
      "collapsed_sections": []
    },
    "kernelspec": {
      "name": "python3",
      "display_name": "Python 3"
    },
    "language_info": {
      "name": "python"
    }
  },
  "cells": [
    {
      "cell_type": "markdown",
      "source": [
        "### Google NET or Inception NET"
      ],
      "metadata": {
        "id": "X23d2X_pGsMI"
      }
    },
    {
      "cell_type": "code",
      "execution_count": 1,
      "metadata": {
        "id": "b5n6ZvecGowH"
      },
      "outputs": [],
      "source": [
        "## Importing Libraries\n",
        "import torch\n",
        "import torch.nn as nn"
      ]
    },
    {
      "cell_type": "code",
      "source": [
        "class GoogleNet(nn.Module):\n",
        "  def __init__(self,in_channels=3,num_classes=1000):\n",
        "    super(GoogleNet,self).__init__()\n",
        "    self.conv1 = conv_block(in_channels=in_channels,out_channels=64,kernel_size=(7,7),\n",
        "                            stride=(2,2),padding=(1,1))\n",
        "    self.maxpool1 = nn.MaxPool2d(kernel_size=3,stride=2,padding=1)\n",
        "    self.conv2 = conv_block(64,192,kernel_size=3,stride=1,padding=1)\n",
        "    self.maxpool2 = nn.MaxPool2d(kernel_size=3,stride=2,padding=1)\n",
        "\n",
        "    # Order: in_channels,out_1x1, red_3x3, out_3x3, red_5x5, out_5x5, out_1x1pool\n",
        "    self.inception3a = Inception_block(192,64,96,128,16,32,32)\n",
        "    self.inception3b = Inception_block(256,128,128,192,32,96,64)\n",
        "    self.maxpool3 = nn.MaxPool2d(kernel_size=3,stride=2,padding=1)\n",
        "\n",
        "    self.inception4a = Inception_block(480, 192, 96, 208, 16, 48, 64)\n",
        "    self.inception4b = Inception_block(512, 160, 112, 224, 24, 64, 64)\n",
        "    self.inception4c = Inception_block(512, 128, 128, 256, 24, 64, 64)\n",
        "    self.inception4d = Inception_block(512, 112, 144, 288, 32, 64, 64)\n",
        "    self.inception4e = Inception_block(528, 256, 160, 320, 32, 128, 128)\n",
        "    self.maxpool4 = nn.MaxPool2d(kernel_size=3, stride=2, padding=1)\n",
        "    \n",
        "    self.inception5a = Inception_block(832, 256, 160, 320, 32, 128, 128)\n",
        "    self.inception5b = Inception_block(832, 384, 192, 384, 48, 128, 128)\n",
        "\n",
        "    self.avgpool = nn.AvgPool2d(kernel_size=7, stride=1)\n",
        "    self.dropout = nn.Dropout(p=0.4)\n",
        "    self.fc1 = nn.Linear(1024, num_classes)\n",
        "\n",
        "  def forward(self,x):\n",
        "     x = self.conv1(x)\n",
        "     x = self.maxpool1(x)\n",
        "     x = self.conv2(x)\n",
        "     x = self.maxpool2(x)\n",
        "\n",
        "     x = self.inception3a(x)\n",
        "     x = self.inception3b(x)\n",
        "     x = self.maxpool3(x)\n",
        "\n",
        "     x = self.inception4a(x)\n",
        "     x = self.inception4b(x)\n",
        "     x = self.inception4c(x)\n",
        "     x = self.inception4d(x)\n",
        "     x = self.inception4e(x)\n",
        "     x = self.maxpool4(x)\n",
        "     x = self.inception5a(x)\n",
        "     x = self.inception5b(x)\n",
        "     x = self.avgpool(x)\n",
        "     x = x.reshape(x.shape[0], -1)\n",
        "     x = self.dropout(x)\n",
        "     x = self.fc1(x)\n",
        "     return x\n",
        "\n",
        "\n",
        "class Inception_block(nn.Module):\n",
        "  def __init__(self,in_channels,out_1x1, red_3x3, out_3x3, red_5x5, out_5x5, out_1x1pool):\n",
        "    super(Inception_block,self).__init__()\n",
        "    \n",
        "    self.branch1 = conv_block(in_channels,out_1x1,kernel_size=(1,1))\n",
        "    self.branch2 = nn.Sequential(\n",
        "        conv_block(in_channels,red_3x3,kernel_size=(1,1)),\n",
        "        conv_block(red_3x3,out_3x3,kernel_size=(3,3), padding=(1,1))\n",
        "        )\n",
        "    self.branch3 = nn.Sequential(\n",
        "        conv_block(in_channels,red_5x5,kernel_size=1),\n",
        "        conv_block(red_5x5,out_5x5,kernel_size=5,padding=2)\n",
        "        )\n",
        "    self.branch4 = nn.Sequential(\n",
        "        nn.MaxPool2d(kernel_size=3,stride=1,padding=1),\n",
        "        conv_block(in_channels,out_1x1pool,kernel_size=1)\n",
        "        )\n",
        "    \n",
        "  def forward(self,x):\n",
        "    return torch.cat([self.branch1(x),self.branch2(x),self.branch3(x),self.branch4(x)], dim=1)\n",
        "\n",
        "class conv_block(nn.Module):\n",
        "  def __init__(self,in_channels,out_channels, **kwargs):\n",
        "    super(conv_block,self).__init__()\n",
        "    self.relu = nn.ReLU()\n",
        "    self.conv = nn.Conv2d(in_channels,out_channels, **kwargs)\n",
        "    self.batchnorm = nn.BatchNorm2d(out_channels)\n",
        "\n",
        "  def forward(self,x):\n",
        "    x = self.relu(self.batchnorm(self.conv(x)))\n",
        "    return x"
      ],
      "metadata": {
        "id": "jVuf8Q5cHr8m"
      },
      "execution_count": 2,
      "outputs": []
    },
    {
      "cell_type": "code",
      "source": [
        "if __name__ == \"__main__\":\n",
        "  # N = 3 (Mini batch size)\n",
        "  x = torch.randn(3, 3, 224, 224)\n",
        "  model = GoogleNet()\n",
        "  print(model(x).shape)"
      ],
      "metadata": {
        "colab": {
          "base_uri": "https://localhost:8080/"
        },
        "id": "tjhQq7I4W_q9",
        "outputId": "7b2ac97c-3086-47b7-8e1a-b3a29f75a65a"
      },
      "execution_count": 3,
      "outputs": [
        {
          "output_type": "stream",
          "name": "stdout",
          "text": [
            "torch.Size([3, 1000])\n"
          ]
        }
      ]
    }
  ]
}