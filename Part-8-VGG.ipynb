{
  "nbformat": 4,
  "nbformat_minor": 0,
  "metadata": {
    "colab": {
      "name": "Part-8-VGG.ipynb",
      "provenance": [],
      "collapsed_sections": []
    },
    "kernelspec": {
      "name": "python3",
      "display_name": "Python 3"
    },
    "language_info": {
      "name": "python"
    }
  },
  "cells": [
    {
      "cell_type": "markdown",
      "source": [
        "### VGG"
      ],
      "metadata": {
        "id": "X23d2X_pGsMI"
      }
    },
    {
      "cell_type": "code",
      "execution_count": null,
      "metadata": {
        "id": "b5n6ZvecGowH"
      },
      "outputs": [],
      "source": [
        "## Importing Libraries\n",
        "import torch\n",
        "import torch.nn as nn\n",
        "import torch.optim as optim\n",
        "import torch.nn.functional as F\n",
        "from torch.utils.data import DataLoader\n",
        "import torchvision\n",
        "import torchvision.datasets as datasets\n",
        "import torchvision.transforms as transforms"
      ]
    },
    {
      "cell_type": "code",
      "source": [
        "#VGG16 = [64,64,'M',128,128,'M',256,256,256,'M',512,512,512,'M',512,512,512,'M'] # Output Channel, M=Maxpool \n",
        "VGG_types = {\n",
        "    \"VGG11\": [64, \"M\", 128, \"M\", 256, 256, \"M\", 512, 512, \"M\", 512, 512, \"M\"],\n",
        "    \"VGG13\": [64, 64, \"M\", 128, 128, \"M\", 256, 256, \"M\", 512, 512, \"M\", 512, 512, \"M\"],\n",
        "    \"VGG16\": [64, 64, \"M\", 128, 128, \"M\", 256, 256, 256, \"M\", 512, 512, 512, \"M\" ,512, 512, 512, \"M\"],\n",
        "    \"VGG19\": [64, 64, \"M\", 128, 128, \"M\", 256, 256, 256, 256, \"M\", 512, 512, 512, 512, \"M\",\n",
        "        512, 512, 512, 512, \"M\"]\n",
        "        }\n",
        "# Then flatten and  4096x4096x1000 Linear layers"
      ],
      "metadata": {
        "id": "YIfkCJHOHSX9"
      },
      "execution_count": null,
      "outputs": []
    },
    {
      "cell_type": "code",
      "source": [
        "class VGG_net(nn.Module):\n",
        "  def __init__(self,in_channels=3,num_classes=1000):\n",
        "    super(VGG_net,self).__init__()\n",
        "    self.in_channels=in_channels\n",
        "    self.conv_layers = self.create_conv_layer(VGG_types['VGG16'])\n",
        "\n",
        "    self.fcs = nn.Sequential(\n",
        "        nn.Linear(512*7*7, 4096), #(After 5 Maxpool size = 224/2^5=7 )\n",
        "        nn.ReLU(),\n",
        "        nn.Dropout(p=0.5),\n",
        "        nn.Linear(4096, 4096),\n",
        "        nn.ReLU(),\n",
        "        nn.Dropout(p=0.5),\n",
        "        nn.Linear(4096, num_classes)\n",
        "    )\n",
        "\n",
        "  def forward(self,x):\n",
        "    x = self.conv_layers(x)\n",
        "    x = x.reshape(x.shape[0],-1)\n",
        "    x = self.fcs(x)\n",
        "    return x\n",
        "\n",
        "  def create_conv_layer(self,architecture):\n",
        "    layers = []\n",
        "    in_channels = self.in_channels\n",
        "\n",
        "    for x in architecture:\n",
        "      if type(x) == int:\n",
        "        out_channels = x\n",
        "\n",
        "        layers += [nn.Conv2d(in_channels=in_channels,out_channels=out_channels,\n",
        "                             kernel_size=(3,3),stride=(1,1),padding=(1,1)),\n",
        "                   nn.BatchNorm2d(x),\n",
        "                   nn.ReLU()]\n",
        "        in_channels = x\n",
        "      elif x == 'M':\n",
        "        layers += [nn.MaxPool2d(kernel_size=(2,2),stride=(2,2))]\n",
        "    \n",
        "    return nn.Sequential(*layers) #Unpacking all that are stored in the list layers.\n",
        "  "
      ],
      "metadata": {
        "id": "jVuf8Q5cHr8m"
      },
      "execution_count": null,
      "outputs": []
    },
    {
      "cell_type": "code",
      "source": [
        "device = 'cuda' if torch.cuda.is_available() else 'cpu'\n",
        "model = VGG_net(in_channels=3,num_classes=1000).to(device)\n",
        "x = torch.randn(1,3,224,224).to(device)\n",
        "print(model(x).shape)"
      ],
      "metadata": {
        "colab": {
          "base_uri": "https://localhost:8080/"
        },
        "id": "T4sfNXMwLIfO",
        "outputId": "3aae72ff-7f43-4f47-c440-d694c7312cc3"
      },
      "execution_count": null,
      "outputs": [
        {
          "output_type": "stream",
          "name": "stdout",
          "text": [
            "torch.Size([1, 1000])\n"
          ]
        }
      ]
    },
    {
      "cell_type": "code",
      "source": [
        ""
      ],
      "metadata": {
        "id": "8mLzSJJmLaLG"
      },
      "execution_count": null,
      "outputs": []
    }
  ]
}