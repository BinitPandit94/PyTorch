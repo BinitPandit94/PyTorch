{
  "nbformat": 4,
  "nbformat_minor": 0,
  "metadata": {
    "colab": {
      "name": "Part-4-RNN-Example.ipynb",
      "provenance": [],
      "collapsed_sections": []
    },
    "kernelspec": {
      "name": "python3",
      "display_name": "Python 3"
    },
    "language_info": {
      "name": "python"
    },
    "accelerator": "GPU"
  },
  "cells": [
    {
      "cell_type": "markdown",
      "source": [
        "### A Simple RNN"
      ],
      "metadata": {
        "id": "rgO0tPm4_l5P"
      }
    },
    {
      "cell_type": "code",
      "source": [
        "## Importing Libraries\n",
        "import torch\n",
        "import torch.nn as nn\n",
        "import torch.optim as optim\n",
        "import torch.nn.functional as F\n",
        "from torch.utils.data import DataLoader\n",
        "import torchvision.datasets as datasets\n",
        "import torchvision.transforms as transforms\n",
        "from tqdm import tqdm"
      ],
      "metadata": {
        "id": "MOTC38WT_lb8"
      },
      "execution_count": 1,
      "outputs": []
    },
    {
      "cell_type": "code",
      "source": [
        "## Set Device\n",
        "device = torch.device('cuda' if torch.cuda.is_available() else 'cpu')"
      ],
      "metadata": {
        "id": "ZKT1fqmhBZUY"
      },
      "execution_count": 2,
      "outputs": []
    },
    {
      "cell_type": "markdown",
      "source": [
        "N x 1 x 28 x 28"
      ],
      "metadata": {
        "id": "pEqj1KElDu9O"
      }
    },
    {
      "cell_type": "code",
      "source": [
        "## Hyperparameters\n",
        "input_size = 28\n",
        "sequence_length = 28\n",
        "num_layers = 2\n",
        "hidden_size = 256\n",
        "num_classes = 10\n",
        "learning_rate = 0.001\n",
        "batch_size = 64\n",
        "num_epochs = 2"
      ],
      "metadata": {
        "id": "nCB_Z-Q8B8MG"
      },
      "execution_count": 3,
      "outputs": []
    },
    {
      "cell_type": "code",
      "execution_count": 4,
      "metadata": {
        "id": "B9X5NttP1yv5"
      },
      "outputs": [],
      "source": [
        "## Create RNN Model\n",
        "class RNN(nn.Module):\n",
        "  def __init__(self,input_size,hidden_size,num_layers,num_classes):\n",
        "    super(RNN,self).__init__()\n",
        "    self.hidden_size = hidden_size\n",
        "    self.num_layers = num_layers\n",
        "    self.rnn = nn.RNN(input_size,hidden_size,num_layers,batch_first=True)\n",
        "    self.fc = nn.Linear(hidden_size*sequence_length,num_classes)\n",
        "\n",
        "  def forward(self,x):\n",
        "    h0 = torch.zeros(self.num_layers, x.size(0),self.hidden_size).to(device)\n",
        "\n",
        "    #Forward\n",
        "    out,_ = self.rnn(x,h0)\n",
        "    out = out.reshape(out.shape[0],-1)\n",
        "    out = self.fc(out)\n",
        "    return out\n"
      ]
    },
    {
      "cell_type": "code",
      "source": [
        "## Create GRU Model\n",
        "class RNN(nn.Module):\n",
        "  def __init__(self,input_size,hidden_size,num_layers,num_classes):\n",
        "    super(RNN,self).__init__()\n",
        "    self.hidden_size = hidden_size\n",
        "    self.num_layers = num_layers\n",
        "    self.gru = nn.GRU(input_size,hidden_size,num_layers,batch_first=True)\n",
        "    self.fc = nn.Linear(hidden_size*sequence_length,num_classes)\n",
        "\n",
        "  def forward(self,x):\n",
        "    h0 = torch.zeros(self.num_layers, x.size(0),self.hidden_size).to(device)\n",
        "\n",
        "    #Forward\n",
        "    out,_ = self.gru(x,h0)\n",
        "    out = out.reshape(out.shape[0],-1)\n",
        "    out = self.fc(out)\n",
        "    return out\n"
      ],
      "metadata": {
        "id": "fqAAwhEfGzGI"
      },
      "execution_count": 5,
      "outputs": []
    },
    {
      "cell_type": "code",
      "source": [
        "## Create LSTM Model\n",
        "class RNN(nn.Module):\n",
        "  def __init__(self,input_size,hidden_size,num_layers,num_classes):\n",
        "    super(RNN,self).__init__()\n",
        "    self.hidden_size = hidden_size\n",
        "    self.num_layers = num_layers\n",
        "    self.lstm = nn.LSTM(input_size,hidden_size,num_layers,batch_first=True)\n",
        "    self.fc = nn.Linear(hidden_size*sequence_length,num_classes)\n",
        "\n",
        "  def forward(self,x):\n",
        "    h0 = torch.zeros(self.num_layers, x.size(0),self.hidden_size).to(device)\n",
        "    c0 = torch.zeros(self.num_layers, x.size(0),self.hidden_size).to(device)\n",
        "\n",
        "    #Forward\n",
        "    out,_ = self.lstm(x,(h0,c0))\n",
        "    out = out.reshape(out.shape[0],-1)\n",
        "    out = self.fc(out)\n",
        "    return out\n"
      ],
      "metadata": {
        "id": "Bqxt_qZRHE1h"
      },
      "execution_count": 6,
      "outputs": []
    },
    {
      "cell_type": "code",
      "source": [
        "## Load Data\n",
        "train_dataset = datasets.MNIST(root='dataset/',train=True,transform=transforms.ToTensor(),download=True)\n",
        "train_loader = DataLoader(dataset=train_dataset,batch_size=batch_size,shuffle=True)\n",
        "\n",
        "test_dataset = datasets.MNIST(root='dataset/',train=False,transform=transforms.ToTensor(),download=True)\n",
        "test_loader = DataLoader(dataset=test_dataset,batch_size=batch_size,shuffle=True)"
      ],
      "metadata": {
        "id": "I_Jnd4r3B3Ip"
      },
      "execution_count": 7,
      "outputs": []
    },
    {
      "cell_type": "code",
      "source": [
        "## Initialize Network\n",
        "model = RNN(input_size,hidden_size,num_layers,num_classes).to(device)"
      ],
      "metadata": {
        "id": "KoujINBdCG5N"
      },
      "execution_count": 8,
      "outputs": []
    },
    {
      "cell_type": "code",
      "source": [
        "## Loss and Optimizer\n",
        "criterion = nn.CrossEntropyLoss()\n",
        "optimizer = optim.Adam(model.parameters(),lr=learning_rate)"
      ],
      "metadata": {
        "id": "W8rVVoCiCNKK"
      },
      "execution_count": 9,
      "outputs": []
    },
    {
      "cell_type": "code",
      "source": [
        "## Train Network\n",
        "for epoch in range(num_epochs):\n",
        "  for batch_idx,(data,targets) in enumerate(tqdm(train_loader)):\n",
        "    # Get data to cuda\n",
        "    data = data.to(device=device).squeeze(1)\n",
        "    targets = targets.to(device=device)\n",
        "\n",
        "    # Forward\n",
        "    scores = model(data)\n",
        "    loss = criterion(scores,targets)\n",
        "\n",
        "    # Backward\n",
        "    optimizer.zero_grad()\n",
        "    loss.backward()\n",
        "\n",
        "    # Gradient descent or Adam step size\n",
        "    optimizer.step()"
      ],
      "metadata": {
        "colab": {
          "base_uri": "https://localhost:8080/"
        },
        "id": "ZRK4shsYCQkt",
        "outputId": "d162af48-2744-4eaa-cf04-4633e83225a1"
      },
      "execution_count": 10,
      "outputs": [
        {
          "output_type": "stream",
          "name": "stderr",
          "text": [
            "100%|██████████| 938/938 [00:09<00:00, 98.02it/s]\n",
            "100%|██████████| 938/938 [00:09<00:00, 98.20it/s]\n"
          ]
        }
      ]
    },
    {
      "cell_type": "code",
      "source": [
        "## Check Accuracy on training & test to see how good our model \n",
        "def check_accuracy(loader,model):\n",
        "  num_correct = 0\n",
        "  num_samples = 0\n",
        "  model.eval()\n",
        "\n",
        "  with torch.no_grad():\n",
        "    for x,y  in loader:\n",
        "      x = x.to(device=device).squeeze(1)\n",
        "      y = y.to(device=device)\n",
        "\n",
        "      # Forward\n",
        "      scores = model(x)\n",
        "      #64x10\n",
        "      _,predictions = scores.max(1) #(max values for 2nd dim)/will output indices\n",
        "      \n",
        "      num_correct += (predictions == y).sum()\n",
        "      num_samples += predictions.size(0) #Size of 1st dimension\n",
        "\n",
        "  model.train()\n",
        "  return num_correct/num_samples\n",
        "\n",
        "print(f'Accuracy on training data: {check_accuracy(train_loader, model)*100:.2f}')\n",
        "print(f\"Accuracy on test set: {check_accuracy(test_loader, model)*100:.2f}\")"
      ],
      "metadata": {
        "id": "w-akq5I8CV4s",
        "colab": {
          "base_uri": "https://localhost:8080/"
        },
        "outputId": "b4fa3389-cbe9-4c91-db4f-df3c91618d24"
      },
      "execution_count": 11,
      "outputs": [
        {
          "output_type": "stream",
          "name": "stdout",
          "text": [
            "Accuracy on training data: 98.48\n",
            "Accuracy on test set: 98.31\n"
          ]
        }
      ]
    },
    {
      "cell_type": "code",
      "source": [
        ""
      ],
      "metadata": {
        "id": "W-ohE60mCcQA"
      },
      "execution_count": 11,
      "outputs": []
    }
  ]
}