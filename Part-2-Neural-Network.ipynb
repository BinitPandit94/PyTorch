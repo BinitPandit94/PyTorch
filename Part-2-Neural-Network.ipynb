{
  "cells": [
    {
      "cell_type": "markdown",
      "metadata": {
        "id": "zNaw2KAMqLnx"
      },
      "source": [
        "## Fully Connected Neural Network"
      ]
    },
    {
      "cell_type": "code",
      "execution_count": 1,
      "metadata": {
        "id": "XtAvEsptqLn-"
      },
      "outputs": [],
      "source": [
        "## Importing Libraries\n",
        "import torch\n",
        "import torch.nn as nn\n",
        "import torch.optim as optim\n",
        "import torch.nn.functional as F\n",
        "from torch.utils.data import DataLoader\n",
        "import torchvision.datasets as datasets\n",
        "import torchvision.transforms as transforms"
      ]
    },
    {
      "cell_type": "code",
      "execution_count": 2,
      "metadata": {
        "id": "ns9SXc9SqLoF"
      },
      "outputs": [],
      "source": [
        "## Create Fully Connected Network\n",
        "class NN(nn.Module):\n",
        "    def __init__(self,input_size,num_classes):\n",
        "        super(NN,self).__init__()\n",
        "        self.fc1 = nn.Linear(input_size,50)\n",
        "        self.fc2 = nn.Linear(50,num_classes)\n",
        "    \n",
        "    def forward(self,x):\n",
        "        x = F.relu(self.fc1(x))\n",
        "        x = self.fc2(x)\n",
        "        return x"
      ]
    },
    {
      "cell_type": "code",
      "execution_count": 3,
      "metadata": {
        "colab": {
          "base_uri": "https://localhost:8080/"
        },
        "id": "j4WZv8tAqLoH",
        "outputId": "f23a169a-affe-41bc-b3e4-25e39ecd3648"
      },
      "outputs": [
        {
          "output_type": "stream",
          "name": "stdout",
          "text": [
            "torch.Size([64, 10])\n"
          ]
        }
      ],
      "source": [
        "## Test model\n",
        "model = NN(784,10)\n",
        "x = torch.randn(64,784)\n",
        "print(model(x).shape)"
      ]
    },
    {
      "cell_type": "code",
      "execution_count": 4,
      "metadata": {
        "id": "nIjgtAWZqLoJ"
      },
      "outputs": [],
      "source": [
        "## Set Device\n",
        "device = torch.device('cuda' if torch.cuda.is_available() else 'cpu')"
      ]
    },
    {
      "cell_type": "code",
      "execution_count": 5,
      "metadata": {
        "id": "kk9WpDBBqLoK"
      },
      "outputs": [],
      "source": [
        "## Hyperparameters\n",
        "input_size = 784\n",
        "num_classes = 10\n",
        "learning_rate = 0.001\n",
        "batch_size = 64\n",
        "num_epochs = 1"
      ]
    },
    {
      "cell_type": "code",
      "execution_count": 6,
      "metadata": {
        "id": "xRRtN5NQqLoM"
      },
      "outputs": [],
      "source": [
        "## Load Data\n",
        "train_dataset = datasets.MNIST(root='dataset/',train=True,transform=transforms.ToTensor(),download=True)\n",
        "train_loader = DataLoader(dataset=train_dataset,batch_size=batch_size,shuffle=True)\n",
        "\n",
        "test_dataset = datasets.MNIST(root='dataset/',train=False,transform=transforms.ToTensor(),download=True)\n",
        "test_loader = DataLoader(dataset=test_dataset,batch_size=batch_size,shuffle=True)"
      ]
    },
    {
      "cell_type": "code",
      "execution_count": 7,
      "metadata": {
        "id": "l6eOFUV_qLoO"
      },
      "outputs": [],
      "source": [
        "## Initialize Network\n",
        "model = NN(input_size=input_size,num_classes=num_classes).to(device)\n"
      ]
    },
    {
      "cell_type": "code",
      "source": [
        "## Loss and Optimizer\n",
        "criterion = nn.CrossEntropyLoss()\n",
        "optimizer = optim.Adam(model.parameters(),lr=learning_rate)"
      ],
      "metadata": {
        "id": "R09fR91Kqrc2"
      },
      "execution_count": 8,
      "outputs": []
    },
    {
      "cell_type": "code",
      "source": [
        "## Train Network\n",
        "for epoch in range(num_epochs):\n",
        "  for batch_idx,(data,targets) in enumerate(train_loader):\n",
        "    # Get data to cuda\n",
        "    data = data.to(device=device)\n",
        "    targets = targets.to(device=device)\n",
        "\n",
        "    # Get to correct shape\n",
        "    data = data.reshape(data.shape[0],-1) # Flatten data keeping batch=64\n",
        "\n",
        "    # Forward\n",
        "    scores = model(data)\n",
        "    loss = criterion(scores,targets)\n",
        "\n",
        "    # Backward\n",
        "    optimizer.zero_grad()\n",
        "    loss.backward()\n",
        "\n",
        "    # Gradient descent or Adam step size\n",
        "    optimizer.step()"
      ],
      "metadata": {
        "id": "WCKkbPBPqt5g"
      },
      "execution_count": 9,
      "outputs": []
    },
    {
      "cell_type": "code",
      "source": [
        "## Check Accuracy on training & test to see how good our model \n",
        "def check_accuracy(loader,model):\n",
        "  num_correct = 0\n",
        "  num_samples = 0\n",
        "  model.eval()\n",
        "\n",
        "  with torch.no_grad():\n",
        "    for x,y  in loader:\n",
        "      x = x.to(device=device)\n",
        "      y = y.to(device=device)\n",
        "      x = x.reshape(x.shape[0],-1) # Flatten data keeping batch\n",
        "\n",
        "      # Forward\n",
        "      scores = model(x)\n",
        "      #64x10\n",
        "      _,predictions = scores.max(1) #(max values for 2nd dim)/will output indices\n",
        "      \n",
        "      num_correct += (predictions == y).sum()\n",
        "      num_samples += predictions.size(0) #Size of 1st dimension\n",
        "\n",
        "    \n",
        "  model.train()\n",
        "  return num_correct/num_samples\n",
        "\n",
        "print(f'Accuracy on training data: {check_accuracy(train_loader, model)*100:.2f}')\n",
        "print(f\"Accuracy on test set: {check_accuracy(test_loader, model)*100:.2f}\")"
      ],
      "metadata": {
        "colab": {
          "base_uri": "https://localhost:8080/"
        },
        "id": "P-fzutpGrfUj",
        "outputId": "e67e7c42-398b-4fe9-eb5e-76596933c061"
      },
      "execution_count": 10,
      "outputs": [
        {
          "output_type": "stream",
          "name": "stdout",
          "text": [
            "Accuracy on training data: 92.59\n",
            "Accuracy on test set: 92.29\n"
          ]
        }
      ]
    },
    {
      "cell_type": "code",
      "source": [
        "\n"
      ],
      "metadata": {
        "id": "MQSm5oDhxUI3"
      },
      "execution_count": 10,
      "outputs": []
    }
  ],
  "metadata": {
    "kernelspec": {
      "display_name": "Python 3",
      "language": "python",
      "name": "python3"
    },
    "language_info": {
      "codemirror_mode": {
        "name": "ipython",
        "version": 3
      },
      "file_extension": ".py",
      "mimetype": "text/x-python",
      "name": "python",
      "nbconvert_exporter": "python",
      "pygments_lexer": "ipython3",
      "version": "3.7.7"
    },
    "colab": {
      "name": "Part-2-Neural-Network.ipynb",
      "provenance": [],
      "collapsed_sections": []
    }
  },
  "nbformat": 4,
  "nbformat_minor": 0
}